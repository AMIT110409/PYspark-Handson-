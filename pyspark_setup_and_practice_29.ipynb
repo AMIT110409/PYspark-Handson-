{
  "nbformat": 4,
  "nbformat_minor": 0,
  "metadata": {
    "colab": {
      "provenance": [],
      "authorship_tag": "ABX9TyNoWf7Sh9CRO2EW4nnhEQ4l",
      "include_colab_link": true
    },
    "kernelspec": {
      "name": "python3",
      "display_name": "Python 3"
    },
    "language_info": {
      "name": "python"
    }
  },
  "cells": [
    {
      "cell_type": "markdown",
      "metadata": {
        "id": "view-in-github",
        "colab_type": "text"
      },
      "source": [
        "<a href=\"https://colab.research.google.com/github/AMIT110409/PYspark-Handson-/blob/main/pyspark_setup_and_practice_29.ipynb\" target=\"_parent\"><img src=\"https://colab.research.google.com/assets/colab-badge.svg\" alt=\"Open In Colab\"/></a>"
      ]
    },
    {
      "cell_type": "code",
      "execution_count": 16,
      "metadata": {
        "colab": {
          "base_uri": "https://localhost:8080/"
        },
        "id": "WlCD4RaS-oNe",
        "outputId": "118dd52d-1b11-4962-973e-e86403fb5a15"
      },
      "outputs": [
        {
          "output_type": "stream",
          "name": "stdout",
          "text": [
            "Requirement already satisfied: pyspark in /usr/local/lib/python3.11/dist-packages (3.5.1)\n",
            "Requirement already satisfied: py4j==0.10.9.7 in /usr/local/lib/python3.11/dist-packages (from pyspark) (0.10.9.7)\n"
          ]
        }
      ],
      "source": [
        "!pip install pyspark"
      ]
    },
    {
      "cell_type": "code",
      "source": [
        "!java -version"
      ],
      "metadata": {
        "colab": {
          "base_uri": "https://localhost:8080/"
        },
        "id": "CX_epBQa_KMN",
        "outputId": "ee19f09a-8277-40da-ad6a-1a34aa511613"
      },
      "execution_count": 17,
      "outputs": [
        {
          "output_type": "stream",
          "name": "stdout",
          "text": [
            "openjdk version \"11.0.27\" 2025-04-15\n",
            "OpenJDK Runtime Environment (build 11.0.27+6-post-Ubuntu-0ubuntu122.04)\n",
            "OpenJDK 64-Bit Server VM (build 11.0.27+6-post-Ubuntu-0ubuntu122.04, mixed mode, sharing)\n"
          ]
        }
      ]
    },
    {
      "cell_type": "code",
      "source": [
        "# Install Java (Spark requires Java)\n",
        "!apt-get install openjdk-8-jdk-headless -qq > /dev/null\n"
      ],
      "metadata": {
        "id": "mmnzgBtf_KPH"
      },
      "execution_count": 18,
      "outputs": []
    },
    {
      "cell_type": "code",
      "source": [
        "# set the java environment variable\n",
        "import os\n",
        "os.environ[\"JAVA_HOME\"] = \"/user/lib/jvm/java-8-openjdk-amd64\"\n",
        "print(\"pyspark installation completed\")"
      ],
      "metadata": {
        "colab": {
          "base_uri": "https://localhost:8080/"
        },
        "id": "baLi35wQ_KSb",
        "outputId": "45ccb80f-9603-409f-f2f4-5019e5dde00d"
      },
      "execution_count": 19,
      "outputs": [
        {
          "output_type": "stream",
          "name": "stdout",
          "text": [
            "pyspark installation completed\n"
          ]
        }
      ]
    },
    {
      "cell_type": "code",
      "source": [
        "# Find the actual path of the installed Java\n",
        "!update-alternatives --display java"
      ],
      "metadata": {
        "colab": {
          "base_uri": "https://localhost:8080/"
        },
        "id": "joNdPwdPCkDe",
        "outputId": "42ffb451-08b2-4591-8c60-1e778b9e50fd"
      },
      "execution_count": 20,
      "outputs": [
        {
          "output_type": "stream",
          "name": "stdout",
          "text": [
            "java - auto mode\n",
            "  link best version is /usr/lib/jvm/java-11-openjdk-amd64/bin/java\n",
            "  link currently points to /usr/lib/jvm/java-11-openjdk-amd64/bin/java\n",
            "  link java is /usr/bin/java\n",
            "  slave java.1.gz is /usr/share/man/man1/java.1.gz\n",
            "/usr/lib/jvm/java-11-openjdk-amd64/bin/java - priority 1111\n",
            "  slave java.1.gz: /usr/lib/jvm/java-11-openjdk-amd64/man/man1/java.1.gz\n",
            "/usr/lib/jvm/java-8-openjdk-amd64/jre/bin/java - priority 1081\n",
            "  slave java.1.gz: /usr/lib/jvm/java-8-openjdk-amd64/jre/man/man1/java.1.gz\n"
          ]
        }
      ]
    },
    {
      "cell_type": "code",
      "source": [
        "# Download and extract Spark\n",
        "spark_version = 'spark-3.5.1'\n",
        "hadoop_version = 'hadoop3'\n",
        "spark_filename = f'{spark_version}-bin-{hadoop_version}'\n",
        "spark_tgz = f'{spark_filename}.tgz'\n",
        "spark_url = f'https://archive.apache.org/dist/spark/{spark_version}/{spark_tgz}'\n",
        "\n",
        "# Download Spark tarball\n",
        "!wget -q {spark_url}\n",
        "\n",
        "# Extract Spark tarball\n",
        "!tar xf {spark_tgz}\n",
        "\n",
        "# Set SPARK_HOME environment variable\n",
        "import os\n",
        "os.environ[\"SPARK_HOME\"] = f\"/content/{spark_filename}\"\n",
        "\n",
        "print(f\"SPARK_HOME set to: {os.environ['SPARK_HOME']}\")\n",
        "print(\"Spark installation completed.\")"
      ],
      "metadata": {
        "colab": {
          "base_uri": "https://localhost:8080/"
        },
        "id": "llNpfc5G8Erb",
        "outputId": "538a1270-e59a-4b88-860d-00c5901f5599"
      },
      "execution_count": 22,
      "outputs": [
        {
          "output_type": "stream",
          "name": "stdout",
          "text": [
            "SPARK_HOME set to: /content/spark-3.5.1-bin-hadoop3\n",
            "Spark installation completed.\n"
          ]
        }
      ]
    },
    {
      "cell_type": "code",
      "source": [
        "# set the java environment variable\n",
        "import os\n",
        "\n",
        "# Update this path based on the output of !update-alternatives --display java\n",
        "# If the output shows /usr/lib/jvm/java-8-openjdk-amd64/jre/bin/java as the executable,\n",
        "# the JAVA_HOME should be the directory above the 'jre' or 'bin' directory.\n",
        "# In this example output, the path is /usr/lib/jvm/java-8-openjdk-amd64\n",
        "os.environ[\"JAVA_HOME\"] = \"/usr/lib/jvm/java-8-openjdk-amd64\"\n",
        "print(f\"JAVA_HOME set to: {os.environ['JAVA_HOME']}\")\n",
        "print(\"pyspark installation completed\")\n",
        "\n",
        "from pyspark.sql import SparkSession\n",
        "from pyspark.sql.functions import *\n",
        "from pyspark.sql.types import *\n",
        "import pandas as pd\n",
        "\n",
        "# create spark session\n",
        "spark = SparkSession.builder\\\n",
        "    .appName(\"PySpark Learning -Day 1\")\\\n",
        "    .config(\"spark.sql.adaptive.enabled\",\"true\")\\\n",
        "    .config(\"spark.sql.adaptive.coalescePartitions.enabled\",\"true\")\\\n",
        "    .getOrCreate()\n",
        "print(f\"spark session created successfully\")\n",
        "print(f\"Spark version: {spark.version}\")\n",
        "print(f\"python version: {spark.sparkContext.pythonVer}\")"
      ],
      "metadata": {
        "colab": {
          "base_uri": "https://localhost:8080/"
        },
        "id": "9gWkEhG0CkGU",
        "outputId": "f7d973bb-ff30-42eb-a469-7b9e2dca288a"
      },
      "execution_count": 23,
      "outputs": [
        {
          "output_type": "stream",
          "name": "stdout",
          "text": [
            "JAVA_HOME set to: /usr/lib/jvm/java-8-openjdk-amd64\n",
            "pyspark installation completed\n",
            "spark session created successfully\n",
            "Spark version: 3.5.1\n",
            "python version: 3.11\n"
          ]
        }
      ]
    },
    {
      "cell_type": "code",
      "source": [
        "import csv\n",
        "\n",
        "# Path to your CSV file\n",
        "csv_file = \"2010-summary.csv\"  # Change this to your actual file path\n",
        "\n",
        "# List to store the formatted output\n",
        "formatted_data = []\n",
        "\n",
        "# Read and format\n",
        "with open(csv_file, newline='', encoding='utf-8') as file:\n",
        "    reader = csv.reader(file)\n",
        "    next(reader)  # Skip header, remove this if there's no header\n",
        "    for row in reader:\n",
        "        if len(row) >= 3:\n",
        "            origin = row[0].strip()\n",
        "            destination = row[1].strip()\n",
        "            count = row[2].strip()\n",
        "            formatted_data.append(f'(\"{origin}\", \"{destination}\", {count})')\n",
        "\n",
        "# Print or save result\n",
        "print(\",\\n\".join(formatted_data))\n"
      ],
      "metadata": {
        "colab": {
          "base_uri": "https://localhost:8080/"
        },
        "id": "vC6x4E3JAWM6",
        "outputId": "af55e0c5-868f-45b2-f49a-89b7b89503f7"
      },
      "execution_count": 24,
      "outputs": [
        {
          "output_type": "stream",
          "name": "stdout",
          "text": [
            "(\"United States\", \"Romania\", 1),\n",
            "(\"United States\", \"Ireland\", 264),\n",
            "(\"United States\", \"India\", 69),\n",
            "(\"Egypt\", \"United States\", 24),\n",
            "(\"Equatorial Guinea\", \"United States\", 1),\n",
            "(\"United States\", \"Singapore\", 25),\n",
            "(\"United States\", \"Grenada\", 54),\n",
            "(\"Costa Rica\", \"United States\", 477),\n",
            "(\"Senegal\", \"United States\", 29),\n",
            "(\"United States\", \"Marshall Islands\", 44),\n",
            "(\"Guyana\", \"United States\", 17),\n",
            "(\"United States\", \"Sint Maarten\", 53),\n",
            "(\"Malta\", \"United States\", 1),\n",
            "(\"Bolivia\", \"United States\", 46),\n",
            "(\"Anguilla\", \"United States\", 21),\n",
            "(\"Turks and Caicos Islands\", \"United States\", 136),\n",
            "(\"United States\", \"Afghanistan\", 2),\n",
            "(\"Saint Vincent and the Grenadines\", \"United States\", 1),\n",
            "(\"Italy\", \"United States\", 390),\n",
            "(\"United States\", \"Russia\", 156),\n",
            "(\"United States\", \"Federated States of Micronesia\", 48),\n",
            "(\"Pakistan\", \"United States\", 9),\n",
            "(\"United States\", \"Netherlands\", 570),\n",
            "(\"Iceland\", \"United States\", 118),\n",
            "(\"Marshall Islands\", \"United States\", 77),\n",
            "(\"Luxembourg\", \"United States\", 91),\n",
            "(\"Honduras\", \"United States\", 391),\n",
            "(\"The Bahamas\", \"United States\", 903),\n",
            "(\"El Salvador\", \"United States\", 519),\n",
            "(\"United States\", \"Senegal\", 46),\n",
            "(\"Samoa\", \"United States\", 28),\n",
            "(\"United States\", \"Angola\", 18),\n",
            "(\"Kazakhstan\", \"United States\", 3),\n",
            "(\"Switzerland\", \"United States\", 315),\n",
            "(\"United States\", \"Anguilla\", 20),\n",
            "(\"Sint Maarten\", \"United States\", 61),\n",
            "(\"Hong Kong\", \"United States\", 252),\n",
            "(\"Trinidad and Tobago\", \"United States\", 187),\n",
            "(\"Latvia\", \"United States\", 12),\n",
            "(\"United States\", \"Ecuador\", 345),\n",
            "(\"Slovakia\", \"United States\", 1),\n",
            "(\"Suriname\", \"United States\", 12),\n",
            "(\"Mexico\", \"United States\", 6200),\n",
            "(\"United States\", \"Cyprus\", 1),\n",
            "(\"Ecuador\", \"United States\", 272),\n",
            "(\"United States\", \"Bosnia and Herzegovina\", 1),\n",
            "(\"United States\", \"Portugal\", 104),\n",
            "(\"United States\", \"Costa Rica\", 501),\n",
            "(\"United States\", \"Guatemala\", 333),\n",
            "(\"United States\", \"Suriname\", 13),\n",
            "(\"Colombia\", \"United States\", 785),\n",
            "(\"United States\", \"Cape Verde\", 18),\n",
            "(\"United States\", \"Jamaica\", 757),\n",
            "(\"United States\", \"Malaysia\", 3),\n",
            "(\"Norway\", \"United States\", 29),\n",
            "(\"United States\", \"Morocco\", 16),\n",
            "(\"Thailand\", \"United States\", 16),\n",
            "(\"Venezuela\", \"United States\", 377),\n",
            "(\"United States\", \"Palau\", 30),\n",
            "(\"United States\", \"Samoa\", 28),\n",
            "(\"United States\", \"Algeria\", 1),\n",
            "(\"United States\", \"Venezuela\", 341),\n",
            "(\"Panama\", \"United States\", 355),\n",
            "(\"United States\", \"Finland\", 20),\n",
            "(\"United States\", \"Chile\", 176),\n",
            "(\"Morocco\", \"United States\", 16),\n",
            "(\"United States\", \"Greece\", 61),\n",
            "(\"Antigua and Barbuda\", \"United States\", 123),\n",
            "(\"Azerbaijan\", \"United States\", 1),\n",
            "(\"United States\", \"The Bahamas\", 959),\n",
            "(\"New Zealand\", \"United States\", 86),\n",
            "(\"Liberia\", \"United States\", 1),\n",
            "(\"United States\", \"Hong Kong\", 293),\n",
            "(\"Hungary\", \"United States\", 14),\n",
            "(\"United States\", \"China\", 505),\n",
            "(\"United States\", \"Vietnam\", 1),\n",
            "(\"Sweden\", \"United States\", 65),\n",
            "(\"United States\", \"Kuwait\", 25),\n",
            "(\"United States\", \"Dominican Republic\", 1150),\n",
            "(\"United States\", \"Egypt\", 25),\n",
            "(\"Israel\", \"United States\", 117),\n",
            "(\"United States\", \"United States\", 348113),\n",
            "(\"United States\", \"Luxembourg\", 90),\n",
            "(\"Ethiopia\", \"United States\", 12),\n",
            "(\"United States\", \"Poland\", 61),\n",
            "(\"Martinique\", \"United States\", 23),\n",
            "(\"Saint Barthelemy\", \"United States\", 28),\n",
            "(\"United States\", \"Saint Barthelemy\", 29),\n",
            "(\"United States\", \"Turkey\", 87),\n",
            "(\"Barbados\", \"United States\", 130),\n",
            "(\"United States\", \"Estonia\", 1),\n",
            "(\"United States\", \"Azerbaijan\", 1),\n",
            "(\"Germany\", \"United States\", 1392),\n",
            "(\"Kyrgyzstan\", \"United States\", 2),\n",
            "(\"United States\", \"South Korea\", 621),\n",
            "(\"United States\", \"El Salvador\", 464),\n",
            "(\"Ireland\", \"United States\", 231),\n",
            "(\"United States\", \"Hungary\", 15),\n",
            "(\"United States\", \"Serbia\", 1),\n",
            "(\"Malaysia\", \"United States\", 1),\n",
            "(\"United States\", \"Panama\", 363),\n",
            "(\"United States\", \"Ethiopia\", 12),\n",
            "(\"United States\", \"Aruba\", 349),\n",
            "(\"United States\", \"Thailand\", 13),\n",
            "(\"United States\", \"Netherlands Antilles\", 289),\n",
            "(\"United States\", \"Turks and Caicos Islands\", 147),\n",
            "(\"Cyprus\", \"United States\", 2),\n",
            "(\"United States\", \"Pakistan\", 15),\n",
            "(\"United States\", \"Honduras\", 393),\n",
            "(\"Qatar\", \"United States\", 41),\n",
            "(\"Fiji\", \"United States\", 53),\n",
            "(\"Saint Kitts and Nevis\", \"United States\", 113),\n",
            "(\"Taiwan\", \"United States\", 275),\n",
            "(\"Haiti\", \"United States\", 238),\n",
            "(\"Kuwait\", \"United States\", 26),\n",
            "(\"Canada\", \"United States\", 8271),\n",
            "(\"Federated States of Micronesia\", \"United States\", 46),\n",
            "(\"United States\", \"Liberia\", 1),\n",
            "(\"Jamaica\", \"United States\", 733),\n",
            "(\"United States\", \"Malta\", 2),\n",
            "(\"Dominican Republic\", \"United States\", 1109),\n",
            "(\"Japan\", \"United States\", 1383),\n",
            "(\"United States\", \"Saint Vincent and the Grenadines\", 16),\n",
            "(\"United States\", \"Guadeloupe\", 33),\n",
            "(\"Finland\", \"United States\", 24),\n",
            "(\"United States\", \"Ukraine\", 17),\n",
            "(\"United States\", \"France\", 776),\n",
            "(\"United States\", \"Norway\", 36),\n",
            "(\"Aruba\", \"United States\", 359),\n",
            "(\"French Guiana\", \"United States\", 4),\n",
            "(\"United States\", \"Kiribati\", 18),\n",
            "(\"India\", \"United States\", 66),\n",
            "(\"British Virgin Islands\", \"United States\", 49),\n",
            "(\"United States\", \"Germany\", 1406),\n",
            "(\"Brazil\", \"United States\", 995),\n",
            "(\"United States\", \"New Zealand\", 71),\n",
            "(\"French Polynesia\", \"United States\", 38),\n",
            "(\"United Arab Emirates\", \"United States\", 165),\n",
            "(\"Singapore\", \"United States\", 25),\n",
            "(\"United States\", \"Mexico\", 6220),\n",
            "(\"Netherlands\", \"United States\", 586),\n",
            "(\"United States\", \"Sweden\", 73),\n",
            "(\"United States\", \"Gabon\", 1),\n",
            "(\"United States\", \"Martinique\", 20),\n",
            "(\"United States\", \"United Arab Emirates\", 156),\n",
            "(\"United States\", \"Bulgaria\", 2),\n",
            "(\"China\", \"United States\", 448),\n",
            "(\"Denmark\", \"United States\", 98),\n",
            "(\"United States\", \"Philippines\", 116),\n",
            "(\"United States\", \"Nicaragua\", 181),\n",
            "(\"United States\", \"Belgium\", 355),\n",
            "(\"Peru\", \"United States\", 212),\n",
            "(\"Argentina\", \"United States\", 184),\n",
            "(\"Cayman Islands\", \"United States\", 247),\n",
            "(\"South Africa\", \"United States\", 25),\n",
            "(\"United States\", \"Iceland\", 129),\n",
            "(\"United States\", \"Argentina\", 159),\n",
            "(\"Spain\", \"United States\", 422),\n",
            "(\"Netherlands Antilles\", \"United States\", 286),\n",
            "(\"Bermuda\", \"United States\", 183),\n",
            "(\"United States\", \"Austria\", 34),\n",
            "(\"United States\", \"Nigeria\", 18),\n",
            "(\"United States\", \"Bonaire, Sint Eustatius, and Saba\", 16),\n",
            "(\"Kiribati\", \"United States\", 17),\n",
            "(\"Saudi Arabia\", \"United States\", 42),\n",
            "(\"Czech Republic\", \"United States\", 21),\n",
            "(\"Belgium\", \"United States\", 408),\n",
            "(\"United States\", \"Israel\", 122),\n",
            "(\"United States\", \"Bahrain\", 1),\n",
            "(\"United States\", \"Saint Lucia\", 121),\n",
            "(\"Afghanistan\", \"United States\", 11),\n",
            "(\"United States\", \"British Virgin Islands\", 47),\n",
            "(\"Curacao\", \"United States\", 20),\n",
            "(\"Georgia\", \"United States\", 2),\n",
            "(\"United States\", \"Guyana\", 20),\n",
            "(\"United States\", \"Denmark\", 107),\n",
            "(\"Philippines\", \"United States\", 132),\n",
            "(\"Grenada\", \"United States\", 65),\n",
            "(\"Cape Verde\", \"United States\", 18),\n",
            "(\"Ukraine\", \"United States\", 19),\n",
            "(\"United States\", \"Papua New Guinea\", 1),\n",
            "(\"United States\", \"Saudi Arabia\", 54),\n",
            "(\"Russia\", \"United States\", 152),\n",
            "(\"Guatemala\", \"United States\", 386),\n",
            "(\"Saint Lucia\", \"United States\", 116),\n",
            "(\"Paraguay\", \"United States\", 90),\n",
            "(\"United States\", \"Curacao\", 14),\n",
            "(\"United States\", \"Taiwan\", 252),\n",
            "(\"United States\", \"South Africa\", 15),\n",
            "(\"Turkey\", \"United States\", 75),\n",
            "(\"United Kingdom\", \"United States\", 1629),\n",
            "(\"United States\", \"Greenland\", 2),\n",
            "(\"United States\", \"Spain\", 442),\n",
            "(\"Cuba\", \"United States\", 243),\n",
            "(\"United States\", \"Italy\", 433),\n",
            "(\"United States\", \"Switzerland\", 334),\n",
            "(\"Dominica\", \"United States\", 28),\n",
            "(\"United States\", \"Japan\", 1307),\n",
            "(\"Portugal\", \"United States\", 102),\n",
            "(\"United States\", \"Brazil\", 578),\n",
            "(\"Bahrain\", \"United States\", 30),\n",
            "(\"United States\", \"Peru\", 284),\n",
            "(\"Vietnam\", \"United States\", 1),\n",
            "(\"United States\", \"United Kingdom\", 1503),\n",
            "(\"United States\", \"Belize\", 118),\n",
            "(\"Belize\", \"United States\", 121),\n",
            "(\"United States\", \"Ghana\", 28),\n",
            "(\"United States\", \"Indonesia\", 1),\n",
            "(\"United States\", \"Fiji\", 51),\n",
            "(\"United States\", \"Canada\", 8305),\n",
            "(\"United States\", \"French Polynesia\", 38),\n",
            "(\"United States\", \"Antigua and Barbuda\", 121),\n",
            "(\"United States\", \"Burkina Faso\", 1),\n",
            "(\"Nicaragua\", \"United States\", 178),\n",
            "(\"United States\", \"Latvia\", 13),\n",
            "(\"United States\", \"Dominica\", 32),\n",
            "(\"United States\", \"Czech Republic\", 22),\n",
            "(\"United States\", \"Australia\", 216),\n",
            "(\"Austria\", \"United States\", 36),\n",
            "(\"United States\", \"Cook Islands\", 12),\n",
            "(\"Jordan\", \"United States\", 50),\n",
            "(\"Palau\", \"United States\", 31),\n",
            "(\"Uganda\", \"United States\", 2),\n",
            "(\"United States\", \"Cameroon\", 1),\n",
            "(\"South Korea\", \"United States\", 683),\n",
            "(\"Angola\", \"United States\", 14),\n",
            "(\"Ghana\", \"United States\", 27),\n",
            "(\"Guadeloupe\", \"United States\", 40),\n",
            "(\"France\", \"United States\", 774),\n",
            "(\"United States\", \"Kyrgyzstan\", 12),\n",
            "(\"Poland\", \"United States\", 62),\n",
            "(\"Nigeria\", \"United States\", 16),\n",
            "(\"United States\", \"Uruguay\", 24),\n",
            "(\"Greenland\", \"United States\", 2),\n",
            "(\"Chile\", \"United States\", 166),\n",
            "(\"United States\", \"Bermuda\", 180),\n",
            "(\"United States\", \"Cuba\", 235),\n",
            "(\"United States\", \"Colombia\", 832),\n",
            "(\"United States\", \"Qatar\", 40),\n",
            "(\"United States\", \"Barbados\", 119),\n",
            "(\"Australia\", \"United States\", 290),\n",
            "(\"United States\", \"Jordan\", 51),\n",
            "(\"United States\", \"Cayman Islands\", 251),\n",
            "(\"United States\", \"Trinidad and Tobago\", 200),\n",
            "(\"United States\", \"Bolivia\", 39),\n",
            "(\"United States\", \"Slovakia\", 1),\n",
            "(\"Uruguay\", \"United States\", 54),\n",
            "(\"Cook Islands\", \"United States\", 13),\n",
            "(\"United States\", \"Saint Kitts and Nevis\", 127),\n",
            "(\"Bulgaria\", \"United States\", 1),\n",
            "(\"United States\", \"French Guiana\", 1),\n",
            "(\"United States\", \"Haiti\", 226),\n",
            "(\"United States\", \"Uganda\", 1),\n",
            "(\"Bonaire, Sint Eustatius, and Saba\", \"United States\", 16),\n",
            "(\"Greece\", \"United States\", 50)\n"
          ]
        }
      ]
    },
    {
      "cell_type": "code",
      "source": [
        "\n",
        "# Your travel data (I've included a sample - you can expand this)\n",
        "travel_data = [\n",
        "(\"United States\", \"Romania\", 1),\n",
        "(\"United States\", \"Ireland\", 264),\n",
        "(\"United States\", \"India\", 69),\n",
        "(\"Egypt\", \"United States\", 24),\n",
        "(\"Equatorial Guinea\", \"United States\", 1),\n",
        "(\"United States\", \"Singapore\", 25),\n",
        "(\"United States\", \"Grenada\", 54),\n",
        "(\"Costa Rica\", \"United States\", 477),\n",
        "(\"Senegal\", \"United States\", 29),\n",
        "(\"United States\", \"Marshall Islands\", 44),\n",
        "(\"Guyana\", \"United States\", 17),\n",
        "(\"United States\", \"Sint Maarten\", 53),\n",
        "(\"Malta\", \"United States\", 1),\n",
        "(\"Bolivia\", \"United States\", 46),\n",
        "(\"Anguilla\", \"United States\", 21),\n",
        "(\"Turks and Caicos Islands\", \"United States\", 136),\n",
        "(\"United States\", \"Afghanistan\", 2),\n",
        "(\"Saint Vincent and the Grenadines\", \"United States\", 1),\n",
        "(\"Italy\", \"United States\", 390),\n",
        "(\"United States\", \"Russia\", 156),\n",
        "(\"United States\", \"Federated States of Micronesia\", 48),\n",
        "(\"Pakistan\", \"United States\", 9),\n",
        "(\"United States\", \"Netherlands\", 570),\n",
        "(\"Iceland\", \"United States\", 118),\n",
        "(\"Marshall Islands\", \"United States\", 77),\n",
        "(\"Luxembourg\", \"United States\", 91),\n",
        "(\"Honduras\", \"United States\", 391),\n",
        "(\"The Bahamas\", \"United States\", 903),\n",
        "(\"El Salvador\", \"United States\", 519),\n",
        "(\"United States\", \"Senegal\", 46),\n",
        "(\"Samoa\", \"United States\", 28),\n",
        "(\"United States\", \"Angola\", 18),\n",
        "(\"Kazakhstan\", \"United States\", 3),\n",
        "(\"Switzerland\", \"United States\", 315),\n",
        "(\"United States\", \"Anguilla\", 20),\n",
        "(\"Sint Maarten\", \"United States\", 61),\n",
        "(\"Hong Kong\", \"United States\", 252),\n",
        "(\"Trinidad and Tobago\", \"United States\", 187),\n",
        "(\"Latvia\", \"United States\", 12),\n",
        "(\"United States\", \"Ecuador\", 345),\n",
        "(\"Slovakia\", \"United States\", 1),\n",
        "(\"Suriname\", \"United States\", 12),\n",
        "(\"Mexico\", \"United States\", 6200),\n",
        "(\"United States\", \"Cyprus\", 1),\n",
        "(\"Ecuador\", \"United States\", 272),\n",
        "(\"United States\", \"Bosnia and Herzegovina\", 1),\n",
        "(\"United States\", \"Portugal\", 104),\n",
        "(\"United States\", \"Costa Rica\", 501),\n",
        "(\"United States\", \"Guatemala\", 333),\n",
        "(\"United States\", \"Suriname\", 13),\n",
        "(\"Colombia\", \"United States\", 785),\n",
        "(\"United States\", \"Cape Verde\", 18),\n",
        "(\"United States\", \"Jamaica\", 757),\n",
        "(\"United States\", \"Malaysia\", 3),\n",
        "(\"Norway\", \"United States\", 29),\n",
        "(\"United States\", \"Morocco\", 16),\n",
        "(\"Thailand\", \"United States\", 16),\n",
        "(\"Venezuela\", \"United States\", 377),\n",
        "(\"United States\", \"Palau\", 30),\n",
        "(\"United States\", \"Samoa\", 28),\n",
        "(\"United States\", \"Algeria\", 1),\n",
        "(\"United States\", \"Venezuela\", 341),\n",
        "(\"Panama\", \"United States\", 355),\n",
        "(\"United States\", \"Finland\", 20),\n",
        "(\"United States\", \"Chile\", 176),\n",
        "(\"Morocco\", \"United States\", 16),\n",
        "(\"United States\", \"Greece\", 61),\n",
        "(\"Antigua and Barbuda\", \"United States\", 123),\n",
        "(\"Azerbaijan\", \"United States\", 1),\n",
        "(\"United States\", \"The Bahamas\", 959),\n",
        "(\"New Zealand\", \"United States\", 86),\n",
        "(\"Liberia\", \"United States\", 1),\n",
        "(\"United States\", \"Hong Kong\", 293),\n",
        "(\"Hungary\", \"United States\", 14),\n",
        "(\"United States\", \"China\", 505),\n",
        "(\"United States\", \"Vietnam\", 1),\n",
        "(\"Sweden\", \"United States\", 65),\n",
        "(\"United States\", \"Kuwait\", 25),\n",
        "(\"United States\", \"Dominican Republic\", 1150),\n",
        "(\"United States\", \"Egypt\", 25),\n",
        "(\"Israel\", \"United States\", 117),\n",
        "(\"United States\", \"United States\", 348113),\n",
        "(\"United States\", \"Luxembourg\", 90),\n",
        "(\"Ethiopia\", \"United States\", 12),\n",
        "(\"United States\", \"Poland\", 61),\n",
        "(\"Martinique\", \"United States\", 23),\n",
        "(\"Saint Barthelemy\", \"United States\", 28),\n",
        "(\"United States\", \"Saint Barthelemy\", 29),\n",
        "(\"United States\", \"Turkey\", 87),\n",
        "(\"Barbados\", \"United States\", 130),\n",
        "(\"United States\", \"Estonia\", 1),\n",
        "(\"United States\", \"Azerbaijan\", 1),\n",
        "(\"Germany\", \"United States\", 1392),\n",
        "(\"Kyrgyzstan\", \"United States\", 2),\n",
        "(\"United States\", \"South Korea\", 621),\n",
        "(\"United States\", \"El Salvador\", 464),\n",
        "(\"Ireland\", \"United States\", 231),\n",
        "(\"United States\", \"Hungary\", 15),\n",
        "(\"United States\", \"Serbia\", 1),\n",
        "(\"Malaysia\", \"United States\", 1),\n",
        "(\"United States\", \"Panama\", 363),\n",
        "(\"United States\", \"Ethiopia\", 12),\n",
        "(\"United States\", \"Aruba\", 349),\n",
        "(\"United States\", \"Thailand\", 13),\n",
        "(\"United States\", \"Netherlands Antilles\", 289),\n",
        "(\"United States\", \"Turks and Caicos Islands\", 147),\n",
        "(\"Cyprus\", \"United States\", 2),\n",
        "(\"United States\", \"Pakistan\", 15),\n",
        "(\"United States\", \"Honduras\", 393),\n",
        "(\"Qatar\", \"United States\", 41),\n",
        "(\"Fiji\", \"United States\", 53),\n",
        "(\"Saint Kitts and Nevis\", \"United States\", 113),\n",
        "(\"Taiwan\", \"United States\", 275),\n",
        "(\"Haiti\", \"United States\", 238),\n",
        "(\"Kuwait\", \"United States\", 26),\n",
        "(\"Canada\", \"United States\", 8271),\n",
        "(\"Federated States of Micronesia\", \"United States\", 46),\n",
        "(\"United States\", \"Liberia\", 1),\n",
        "(\"Jamaica\", \"United States\", 733),\n",
        "(\"United States\", \"Malta\", 2),\n",
        "(\"Dominican Republic\", \"United States\", 1109),\n",
        "(\"Japan\", \"United States\", 1383),\n",
        "(\"United States\", \"Saint Vincent and the Grenadines\", 16),\n",
        "(\"United States\", \"Guadeloupe\", 33),\n",
        "(\"Finland\", \"United States\", 24),\n",
        "(\"United States\", \"Ukraine\", 17),\n",
        "(\"United States\", \"France\", 776),\n",
        "(\"United States\", \"Norway\", 36),\n",
        "(\"Aruba\", \"United States\", 359),\n",
        "(\"French Guiana\", \"United States\", 4),\n",
        "(\"United States\", \"Kiribati\", 18),\n",
        "(\"India\", \"United States\", 66),\n",
        "(\"British Virgin Islands\", \"United States\", 49),\n",
        "(\"United States\", \"Germany\", 1406),\n",
        "(\"Brazil\", \"United States\", 995),\n",
        "(\"United States\", \"New Zealand\", 71),\n",
        "(\"French Polynesia\", \"United States\", 38),\n",
        "(\"United Arab Emirates\", \"United States\", 165),\n",
        "(\"Singapore\", \"United States\", 25),\n",
        "(\"United States\", \"Mexico\", 6220),\n",
        "(\"Netherlands\", \"United States\", 586),\n",
        "(\"United States\", \"Sweden\", 73),\n",
        "(\"United States\", \"Gabon\", 1),\n",
        "(\"United States\", \"Martinique\", 20),\n",
        "(\"United States\", \"United Arab Emirates\", 156),\n",
        "(\"United States\", \"Bulgaria\", 2),\n",
        "(\"China\", \"United States\", 448),\n",
        "(\"Denmark\", \"United States\", 98),\n",
        "(\"United States\", \"Philippines\", 116),\n",
        "(\"United States\", \"Nicaragua\", 181),\n",
        "(\"United States\", \"Belgium\", 355),\n",
        "(\"Peru\", \"United States\", 212),\n",
        "(\"Argentina\", \"United States\", 184),\n",
        "(\"Cayman Islands\", \"United States\", 247),\n",
        "(\"South Africa\", \"United States\", 25),\n",
        "(\"United States\", \"Iceland\", 129),\n",
        "(\"United States\", \"Argentina\", 159),\n",
        "(\"Spain\", \"United States\", 422),\n",
        "(\"Netherlands Antilles\", \"United States\", 286),\n",
        "(\"Bermuda\", \"United States\", 183),\n",
        "(\"United States\", \"Austria\", 34),\n",
        "(\"United States\", \"Nigeria\", 18),\n",
        "(\"United States\", \"Bonaire, Sint Eustatius, and Saba\", 16),\n",
        "(\"Kiribati\", \"United States\", 17),\n",
        "(\"Saudi Arabia\", \"United States\", 42),\n",
        "(\"Czech Republic\", \"United States\", 21),\n",
        "(\"Belgium\", \"United States\", 408),\n",
        "(\"United States\", \"Israel\", 122),\n",
        "(\"United States\", \"Bahrain\", 1),\n",
        "(\"United States\", \"Saint Lucia\", 121),\n",
        "(\"Afghanistan\", \"United States\", 11),\n",
        "(\"United States\", \"British Virgin Islands\", 47),\n",
        "(\"Curacao\", \"United States\", 20),\n",
        "(\"Georgia\", \"United States\", 2),\n",
        "(\"United States\", \"Guyana\", 20),\n",
        "(\"United States\", \"Denmark\", 107),\n",
        "(\"Philippines\", \"United States\", 132),\n",
        "(\"Grenada\", \"United States\", 65),\n",
        "(\"Cape Verde\", \"United States\", 18),\n",
        "(\"Ukraine\", \"United States\", 19),\n",
        "(\"United States\", \"Papua New Guinea\", 1),\n",
        "(\"United States\", \"Saudi Arabia\", 54),\n",
        "(\"Russia\", \"United States\", 152),\n",
        "(\"Guatemala\", \"United States\", 386),\n",
        "(\"Saint Lucia\", \"United States\", 116),\n",
        "(\"Paraguay\", \"United States\", 90),\n",
        "(\"United States\", \"Curacao\", 14),\n",
        "(\"United States\", \"Taiwan\", 252),\n",
        "(\"United States\", \"South Africa\", 15),\n",
        "(\"Turkey\", \"United States\", 75),\n",
        "(\"United Kingdom\", \"United States\", 1629),\n",
        "(\"United States\", \"Greenland\", 2),\n",
        "(\"United States\", \"Spain\", 442),\n",
        "(\"Cuba\", \"United States\", 243),\n",
        "(\"United States\", \"Italy\", 433),\n",
        "(\"United States\", \"Switzerland\", 334),\n",
        "(\"Dominica\", \"United States\", 28),\n",
        "(\"United States\", \"Japan\", 1307),\n",
        "(\"Portugal\", \"United States\", 102),\n",
        "(\"United States\", \"Brazil\", 578),\n",
        "(\"Bahrain\", \"United States\", 30),\n",
        "(\"United States\", \"Peru\", 284),\n",
        "(\"Vietnam\", \"United States\", 1),\n",
        "(\"United States\", \"United Kingdom\", 1503),\n",
        "(\"United States\", \"Belize\", 118),\n",
        "(\"Belize\", \"United States\", 121),\n",
        "(\"United States\", \"Ghana\", 28),\n",
        "(\"United States\", \"Indonesia\", 1),\n",
        "(\"United States\", \"Fiji\", 51),\n",
        "(\"United States\", \"Canada\", 8305),\n",
        "(\"United States\", \"French Polynesia\", 38),\n",
        "(\"United States\", \"Antigua and Barbuda\", 121),\n",
        "(\"United States\", \"Burkina Faso\", 1),\n",
        "(\"Nicaragua\", \"United States\", 178),\n",
        "(\"United States\", \"Latvia\", 13),\n",
        "(\"United States\", \"Dominica\", 32),\n",
        "(\"United States\", \"Czech Republic\", 22),\n",
        "(\"United States\", \"Australia\", 216),\n",
        "(\"Austria\", \"United States\", 36),\n",
        "(\"United States\", \"Cook Islands\", 12),\n",
        "(\"Jordan\", \"United States\", 50),\n",
        "(\"Palau\", \"United States\", 31),\n",
        "(\"Uganda\", \"United States\", 2),\n",
        "(\"United States\", \"Cameroon\", 1),\n",
        "(\"South Korea\", \"United States\", 683),\n",
        "(\"Angola\", \"United States\", 14),\n",
        "(\"Ghana\", \"United States\", 27),\n",
        "(\"Guadeloupe\", \"United States\", 40),\n",
        "(\"France\", \"United States\", 774),\n",
        "(\"United States\", \"Kyrgyzstan\", 12),\n",
        "(\"Poland\", \"United States\", 62),\n",
        "(\"Nigeria\", \"United States\", 16),\n",
        "(\"United States\", \"Uruguay\", 24),\n",
        "(\"Greenland\", \"United States\", 2),\n",
        "(\"Chile\", \"United States\", 166),\n",
        "(\"United States\", \"Bermuda\", 180),\n",
        "(\"United States\", \"Cuba\", 235),\n",
        "(\"United States\", \"Colombia\", 832),\n",
        "(\"United States\", \"Qatar\", 40),\n",
        "(\"United States\", \"Barbados\", 119),\n",
        "(\"Australia\", \"United States\", 290),\n",
        "(\"United States\", \"Jordan\", 51),\n",
        "(\"United States\", \"Cayman Islands\", 251),\n",
        "(\"United States\", \"Trinidad and Tobago\", 200),\n",
        "(\"United States\", \"Bolivia\", 39),\n",
        "(\"United States\", \"Slovakia\", 1),\n",
        "(\"Uruguay\", \"United States\", 54),\n",
        "(\"Cook Islands\", \"United States\", 13),\n",
        "(\"United States\", \"Saint Kitts and Nevis\", 127),\n",
        "(\"Bulgaria\", \"United States\", 1),\n",
        "(\"United States\", \"French Guiana\", 1),\n",
        "(\"United States\", \"Haiti\", 226),\n",
        "(\"United States\", \"Uganda\", 1),\n",
        "(\"Bonaire, Sint Eustatius, and Saba\", \"United States\", 16),\n",
        "(\"Greece\", \"United States\", 50)\n",
        "]\n",
        "\n",
        "\n",
        "# define the schmea for better perofrmance and data integrity\n",
        "schema = StructType([\n",
        "    StructField(\"DEST_COUNTRY_NAME\",StringType(),True),\n",
        "    StructField(\"ORIGIN_COUNTRY_NAME\",StringType(),True),\n",
        "    StructField(\"count\",IntegerType(),True)\n",
        "])\n",
        "\n",
        "# creating the dataframe\n",
        "df = spark.createDataFrame(travel_data,schema)\n",
        "\n",
        "print(\"dataframe created succesfully \")\n",
        "print(f\"Number of rows: {df.count()}\")"
      ],
      "metadata": {
        "colab": {
          "base_uri": "https://localhost:8080/"
        },
        "id": "XWZIZptYCkJY",
        "outputId": "9bc0d092-10d0-47e7-f3aa-784810705ac3"
      },
      "execution_count": 25,
      "outputs": [
        {
          "output_type": "stream",
          "name": "stdout",
          "text": [
            "dataframe created succesfully \n",
            "Number of rows: 255\n"
          ]
        }
      ]
    },
    {
      "cell_type": "code",
      "source": [
        "## basic dataframe exploration\n",
        "\n",
        "# show the schema\n",
        "print(\"\\n DataFrame Schema:\")\n",
        "df.printSchema()\n",
        "\n",
        "# show few rows\n",
        "print(\"\\n first 10 rows:\")\n",
        "df.show(10)\n",
        "\n",
        "\n",
        "# Get basic statistics\n",
        "print(f\"\\n📈 Total number of records: {df.count()}\")\n",
        "print(f\"📈 Number of columns: {len(df.columns)}\")\n",
        "print(f\"📈 Column names: {df.columns}\")"
      ],
      "metadata": {
        "colab": {
          "base_uri": "https://localhost:8080/"
        },
        "id": "gxAqIdW0CkMP",
        "outputId": "10863d14-d96e-42a3-8773-e7ff0bbd68fd"
      },
      "execution_count": 27,
      "outputs": [
        {
          "output_type": "stream",
          "name": "stdout",
          "text": [
            "\n",
            " DataFrame Schema:\n",
            "root\n",
            " |-- DEST_COUNTRY_NAME: string (nullable = true)\n",
            " |-- ORIGIN_COUNTRY_NAME: string (nullable = true)\n",
            " |-- count: integer (nullable = true)\n",
            "\n",
            "\n",
            " first 10 rows:\n",
            "+-----------------+-------------------+-----+\n",
            "|DEST_COUNTRY_NAME|ORIGIN_COUNTRY_NAME|count|\n",
            "+-----------------+-------------------+-----+\n",
            "|    United States|            Romania|    1|\n",
            "|    United States|            Ireland|  264|\n",
            "|    United States|              India|   69|\n",
            "|            Egypt|      United States|   24|\n",
            "|Equatorial Guinea|      United States|    1|\n",
            "|    United States|          Singapore|   25|\n",
            "|    United States|            Grenada|   54|\n",
            "|       Costa Rica|      United States|  477|\n",
            "|          Senegal|      United States|   29|\n",
            "|    United States|   Marshall Islands|   44|\n",
            "+-----------------+-------------------+-----+\n",
            "only showing top 10 rows\n",
            "\n",
            "\n",
            "📈 Total number of records: 255\n",
            "📈 Number of columns: 3\n",
            "📈 Column names: ['DEST_COUNTRY_NAME', 'ORIGIN_COUNTRY_NAME', 'count']\n"
          ]
        }
      ]
    },
    {
      "cell_type": "code",
      "source": [
        "# basic transformation\n",
        "print(\"==== basic transformation===\")\n",
        "\n",
        "# select specific columns\n",
        "print(\"\\n selecting destination countires only:\")\n",
        "df.select(\"DEST_COUNTRY_NAME\").distinct().show()\n",
        "\n",
        "# filter data - countires with more than 100 travler .\n",
        "print(\"\\n rotes with more than 100 travler:\")\n",
        "df.filter(col(\"count\")>100).show()\n",
        "\n",
        "# order by count (descending)\n",
        "print(\"\\n top 1- routes by travler count:\")\n",
        "df.orderBy(desc(\"count\")).show(10)"
      ],
      "metadata": {
        "colab": {
          "base_uri": "https://localhost:8080/"
        },
        "id": "eR8JluopCkPC",
        "outputId": "439e9ea2-049f-467d-c35d-cdc0673c0fa7"
      },
      "execution_count": 28,
      "outputs": [
        {
          "output_type": "stream",
          "name": "stdout",
          "text": [
            "==== basic transformation===\n",
            "\n",
            " selecting destination countires only:\n",
            "+--------------------+\n",
            "|   DEST_COUNTRY_NAME|\n",
            "+--------------------+\n",
            "|            Anguilla|\n",
            "|             Senegal|\n",
            "|              Sweden|\n",
            "|              Guyana|\n",
            "|            Malaysia|\n",
            "|                Fiji|\n",
            "|             Germany|\n",
            "|Turks and Caicos ...|\n",
            "|              Taiwan|\n",
            "|   Equatorial Guinea|\n",
            "|            Slovakia|\n",
            "|             Ecuador|\n",
            "|               Qatar|\n",
            "|             Finland|\n",
            "|       United States|\n",
            "|               Malta|\n",
            "|              Kuwait|\n",
            "|    Marshall Islands|\n",
            "|          Martinique|\n",
            "|             Bolivia|\n",
            "+--------------------+\n",
            "only showing top 20 rows\n",
            "\n",
            "\n",
            " rotes with more than 100 travler:\n",
            "+--------------------+-------------------+-----+\n",
            "|   DEST_COUNTRY_NAME|ORIGIN_COUNTRY_NAME|count|\n",
            "+--------------------+-------------------+-----+\n",
            "|       United States|            Ireland|  264|\n",
            "|          Costa Rica|      United States|  477|\n",
            "|Turks and Caicos ...|      United States|  136|\n",
            "|               Italy|      United States|  390|\n",
            "|       United States|             Russia|  156|\n",
            "|       United States|        Netherlands|  570|\n",
            "|             Iceland|      United States|  118|\n",
            "|            Honduras|      United States|  391|\n",
            "|         The Bahamas|      United States|  903|\n",
            "|         El Salvador|      United States|  519|\n",
            "|         Switzerland|      United States|  315|\n",
            "|           Hong Kong|      United States|  252|\n",
            "| Trinidad and Tobago|      United States|  187|\n",
            "|       United States|            Ecuador|  345|\n",
            "|              Mexico|      United States| 6200|\n",
            "|             Ecuador|      United States|  272|\n",
            "|       United States|           Portugal|  104|\n",
            "|       United States|         Costa Rica|  501|\n",
            "|       United States|          Guatemala|  333|\n",
            "|            Colombia|      United States|  785|\n",
            "+--------------------+-------------------+-----+\n",
            "only showing top 20 rows\n",
            "\n",
            "\n",
            " top 1- routes by travler count:\n",
            "+-----------------+-------------------+------+\n",
            "|DEST_COUNTRY_NAME|ORIGIN_COUNTRY_NAME| count|\n",
            "+-----------------+-------------------+------+\n",
            "|    United States|      United States|348113|\n",
            "|    United States|             Canada|  8305|\n",
            "|           Canada|      United States|  8271|\n",
            "|    United States|             Mexico|  6220|\n",
            "|           Mexico|      United States|  6200|\n",
            "|   United Kingdom|      United States|  1629|\n",
            "|    United States|     United Kingdom|  1503|\n",
            "|    United States|            Germany|  1406|\n",
            "|          Germany|      United States|  1392|\n",
            "|            Japan|      United States|  1383|\n",
            "+-----------------+-------------------+------+\n",
            "only showing top 10 rows\n",
            "\n"
          ]
        }
      ]
    },
    {
      "cell_type": "code",
      "source": [
        "# perform the basic aggregations\n",
        "\n",
        "print(\"===BASIC AGGREGATIONS ===\")\n",
        "\n",
        "# group by destination country and sum travelers\n",
        "print(\"\\n Total traveler by destination country:\")\n",
        "dest_summary = df.groupBy(\"DEST_COUNTRY_NAME\").sum(\"count\").orderBy(desc(\"sum(count)\"))\n",
        "dest_summary.show()\n",
        "\n",
        "# Group by origin country and sum travlers\n",
        "print(\"\\n Total travlers by origin country\")\n",
        "origin_summary = df.groupBy(\"ORIGIN_COUNTRY_NAME\").sum(\"count\").orderBy(desc(\"sum(count)\"))\n",
        "origin_summary.show()\n",
        "\n",
        "# overall statistics\n",
        "print(\"\\n OVerall travel statistics:\")\n",
        "df.agg(\n",
        "    sum(\"count\").alias(\"total_travelers\"),\n",
        "    avg(\"count\").alias(\"average_travelers\"),\n",
        "    max(\"count\").alias(\"max_travelers\"),\n",
        "    min(\"count\").alias(\"min_travelers\")\n",
        ").show()\n",
        ""
      ],
      "metadata": {
        "colab": {
          "base_uri": "https://localhost:8080/"
        },
        "id": "D8KvUl6yCkYA",
        "outputId": "53374d12-a60a-474b-977d-91e412b23a38"
      },
      "execution_count": 29,
      "outputs": [
        {
          "output_type": "stream",
          "name": "stdout",
          "text": [
            "===BASIC AGGREGATIONS ===\n",
            "\n",
            " Total traveler by destination country:\n",
            "+------------------+----------+\n",
            "| DEST_COUNTRY_NAME|sum(count)|\n",
            "+------------------+----------+\n",
            "|     United States|    384932|\n",
            "|            Canada|      8271|\n",
            "|            Mexico|      6200|\n",
            "|    United Kingdom|      1629|\n",
            "|           Germany|      1392|\n",
            "|             Japan|      1383|\n",
            "|Dominican Republic|      1109|\n",
            "|            Brazil|       995|\n",
            "|       The Bahamas|       903|\n",
            "|          Colombia|       785|\n",
            "|            France|       774|\n",
            "|           Jamaica|       733|\n",
            "|       South Korea|       683|\n",
            "|       Netherlands|       586|\n",
            "|       El Salvador|       519|\n",
            "|        Costa Rica|       477|\n",
            "|             China|       448|\n",
            "|             Spain|       422|\n",
            "|           Belgium|       408|\n",
            "|          Honduras|       391|\n",
            "+------------------+----------+\n",
            "only showing top 20 rows\n",
            "\n",
            "\n",
            " Total travlers by origin country\n",
            "+-------------------+----------+\n",
            "|ORIGIN_COUNTRY_NAME|sum(count)|\n",
            "+-------------------+----------+\n",
            "|      United States|    385450|\n",
            "|             Canada|      8305|\n",
            "|             Mexico|      6220|\n",
            "|     United Kingdom|      1503|\n",
            "|            Germany|      1406|\n",
            "|              Japan|      1307|\n",
            "| Dominican Republic|      1150|\n",
            "|        The Bahamas|       959|\n",
            "|           Colombia|       832|\n",
            "|             France|       776|\n",
            "|            Jamaica|       757|\n",
            "|        South Korea|       621|\n",
            "|             Brazil|       578|\n",
            "|        Netherlands|       570|\n",
            "|              China|       505|\n",
            "|         Costa Rica|       501|\n",
            "|        El Salvador|       464|\n",
            "|              Spain|       442|\n",
            "|              Italy|       433|\n",
            "|           Honduras|       393|\n",
            "+-------------------+----------+\n",
            "only showing top 20 rows\n",
            "\n",
            "\n",
            " OVerall travel statistics:\n",
            "+---------------+-----------------+-------------+-------------+\n",
            "|total_travelers|average_travelers|max_travelers|min_travelers|\n",
            "+---------------+-----------------+-------------+-------------+\n",
            "|         422269|1655.956862745098|       348113|            1|\n",
            "+---------------+-----------------+-------------+-------------+\n",
            "\n"
          ]
        }
      ]
    },
    {
      "cell_type": "code",
      "source": [
        "## solution of chaalange\n",
        "\n",
        "## which country destination received the most travler ?\n",
        "\n",
        "print(\"\\n Challenge 1: Top destination country\")\n",
        "top_destination =df.groupBy(\"DEST_COUNTRY_NAME\")\\\n",
        "      .sum(\"count\")\\\n",
        "      .orderBy(desc(\"sum(count)\")) \\\n",
        "      .first()\n",
        "print(f\"Top destination: {top_destination['DEST_COUNTRY_NAME']} with {top_destination['sum(count)']} travelers\")\n",
        "\n",
        "print(\"\\n Challange 2: Top origin country\")\n",
        "top_origin = df.groupBy(\"ORIGIN_COUNTRY_NAME\")\\\n",
        "    .sum(\"count\")\\\n",
        "    .orderBy(desc(\"sum(count)\"))\\\n",
        "    .first()\n",
        "print(f\"Top origin: {top_origin['ORIGIN_COUNTRY_NAME']} with {top_destination['sum(count)']} travelers\")\n",
        "\n",
        "print(\"\\n Challenge 3: Total travelers\")\n",
        "total_travlers = df.agg(sum(\"count\")).collect()[0][0]\n",
        "print(f\"Total travlers: {total_travlers}\")\n",
        "\n",
        "\n",
        "print(\"\\n Challange 4 : Unique country pairs\")\n",
        "unique_pairs = df.select(\"DEST_COUNTRY_NAME\",\"ORIGIN_COUNTRY_NAME\").distinct().count()\n",
        "print(f\"Unique country pairs: {unique_pairs}\")\n",
        "\n",
        "\n",
        "\n"
      ],
      "metadata": {
        "colab": {
          "base_uri": "https://localhost:8080/"
        },
        "id": "3bK9pglNgP-z",
        "outputId": "15a38bd9-96d1-4952-ce1a-070d5e187b13"
      },
      "execution_count": 30,
      "outputs": [
        {
          "output_type": "stream",
          "name": "stdout",
          "text": [
            "\n",
            " Challenge 1: Top destination country\n",
            "Top destination: United States with 384932 travelers\n",
            "\n",
            " Challange 2: Top origin country\n",
            "Top origin: United States with 384932 travelers\n",
            "\n",
            " Challenge 3: Total travelers\n",
            "Total travlers: 422269\n",
            "\n",
            " Challange 4 : Unique country pairs\n",
            "Unique country pairs: 255\n"
          ]
        }
      ]
    },
    {
      "cell_type": "code",
      "source": [
        "## understanding the LAZY Evalution\n",
        "\n",
        "print(\"==== Understand LAZY EVALUTION===\")\n",
        "\n",
        "# create a transofrmation chain  (these are lazy - not executed yet)\n",
        "lazy_df = df.filter(col(\"count\") > 50) \\\n",
        "    .select(\"DEST_COUNTRY_NAME\",\"ORIGIN_COUNTRY_NAME\",\"count\")\\\n",
        "    .orderBy(desc(\"count\"))\n",
        "\n",
        "print(\" Transformation chain created ( not executed yet)\")\n",
        "\n",
        "# now trigger execution with an action\n",
        "print(\"\\n Triggering execution with .show():\")\n",
        "lazy_df.show(5)\n",
        "\n"
      ],
      "metadata": {
        "colab": {
          "base_uri": "https://localhost:8080/"
        },
        "id": "tQgHikuol73c",
        "outputId": "58f0d363-b7b4-4445-ae8c-1778271636d3"
      },
      "execution_count": 31,
      "outputs": [
        {
          "output_type": "stream",
          "name": "stdout",
          "text": [
            "==== Understand LAZY EVALUTION===\n",
            " Transformation chain created ( not executed yet)\n",
            "\n",
            " Triggering execution with .show():\n",
            "+-----------------+-------------------+------+\n",
            "|DEST_COUNTRY_NAME|ORIGIN_COUNTRY_NAME| count|\n",
            "+-----------------+-------------------+------+\n",
            "|    United States|      United States|348113|\n",
            "|    United States|             Canada|  8305|\n",
            "|           Canada|      United States|  8271|\n",
            "|    United States|             Mexico|  6220|\n",
            "|           Mexico|      United States|  6200|\n",
            "+-----------------+-------------------+------+\n",
            "only showing top 5 rows\n",
            "\n"
          ]
        }
      ]
    },
    {
      "cell_type": "code",
      "source": [
        "# =============================================================================\n",
        "# CELL 9: EXPLORING SPARK UI AND PERFORMANCE\n",
        "# =============================================================================\n",
        "\n",
        "print(\"=== PERFORMANCE AND MONITORING ===\")\n",
        "\n",
        "# Show Spark application UI URL\n",
        "print(f\" Spark UI available at: {spark.sparkContext.uiWebUrl}\")\n",
        "print(\" You can monitor your Spark jobs and performance here\")\n",
        "\n",
        "# Show current Spark configuration\n",
        "print(f\"\\n Spark Master: {spark.sparkContext.master}\")\n",
        "print(f\" Application Name: {spark.sparkContext.appName}\")\n",
        "print(f\" Default Parallelism: {spark.sparkContext.defaultParallelism}\")\n"
      ],
      "metadata": {
        "colab": {
          "base_uri": "https://localhost:8080/"
        },
        "id": "27f3A7Vtl7z3",
        "outputId": "06c06b9b-e5d5-4c23-ec0c-18694e8ce68c"
      },
      "execution_count": 32,
      "outputs": [
        {
          "output_type": "stream",
          "name": "stdout",
          "text": [
            "=== PERFORMANCE AND MONITORING ===\n",
            " Spark UI available at: http://da7bfc25f101:4040\n",
            " You can monitor your Spark jobs and performance here\n",
            "\n",
            " Spark Master: local[*]\n",
            " Application Name: PySpark Learning -Day 1\n",
            " Default Parallelism: 2\n"
          ]
        }
      ]
    },
    {
      "cell_type": "code",
      "source": [
        "## 1. Find all routes where United States is the destination\n",
        "print(\"\\n  all route where USA is destination\")\n",
        "us_destinations = df.filter(col(\"DEST_COUNTRY_NAME\") == \"United States\")\n",
        "us_destinations.show()\n"
      ],
      "metadata": {
        "colab": {
          "base_uri": "https://localhost:8080/"
        },
        "id": "SROYxPkHqs8E",
        "outputId": "3adf4641-b39e-4d2a-b6e5-0e7907c8f32c"
      },
      "execution_count": 20,
      "outputs": [
        {
          "output_type": "stream",
          "name": "stdout",
          "text": [
            "\n",
            "  all route where USA is destination\n",
            "+-----------------+-------------------+-----+\n",
            "|DEST_COUNTRY_NAME|ORIGIN_COUNTRY_NAME|count|\n",
            "+-----------------+-------------------+-----+\n",
            "|    United States|            Romania|    1|\n",
            "|    United States|            Ireland|  264|\n",
            "|    United States|              India|   69|\n",
            "|    United States|          Singapore|   25|\n",
            "|    United States|            Grenada|   54|\n",
            "|    United States|   Marshall Islands|   44|\n",
            "|    United States|       Sint Maarten|   53|\n",
            "|    United States|             Mexico| 6220|\n",
            "|    United States|             Canada| 8305|\n",
            "|    United States|     United Kingdom| 1503|\n",
            "+-----------------+-------------------+-----+\n",
            "\n"
          ]
        }
      ]
    },
    {
      "cell_type": "code",
      "source": [
        "#load csv into dataframe\n",
        "dff = spark.read.csv(\"2010-summary.csv\",header=True,inferSchema=True)"
      ],
      "metadata": {
        "id": "MR8eP7jfrSfz"
      },
      "execution_count": 33,
      "outputs": []
    },
    {
      "cell_type": "code",
      "source": [
        "dff.printSchema()\n",
        "dff.show(5)"
      ],
      "metadata": {
        "colab": {
          "base_uri": "https://localhost:8080/"
        },
        "id": "_dnc_S6Xl7nf",
        "outputId": "e3c26209-a7d5-43a9-ff6f-5de736356e9e"
      },
      "execution_count": 34,
      "outputs": [
        {
          "output_type": "stream",
          "name": "stdout",
          "text": [
            "root\n",
            " |-- DEST_COUNTRY_NAME: string (nullable = true)\n",
            " |-- ORIGIN_COUNTRY_NAME: string (nullable = true)\n",
            " |-- count: integer (nullable = true)\n",
            "\n",
            "+-----------------+-------------------+-----+\n",
            "|DEST_COUNTRY_NAME|ORIGIN_COUNTRY_NAME|count|\n",
            "+-----------------+-------------------+-----+\n",
            "|    United States|            Romania|    1|\n",
            "|    United States|            Ireland|  264|\n",
            "|    United States|              India|   69|\n",
            "|            Egypt|      United States|   24|\n",
            "|Equatorial Guinea|      United States|    1|\n",
            "+-----------------+-------------------+-----+\n",
            "only showing top 5 rows\n",
            "\n"
          ]
        }
      ]
    },
    {
      "cell_type": "code",
      "source": [
        "# create a temporary view for SQL\n",
        "dff.createOrReplaceTempView(\"routes\")"
      ],
      "metadata": {
        "id": "tenlFAPKl7kU"
      },
      "execution_count": 35,
      "outputs": []
    },
    {
      "cell_type": "code",
      "source": [
        "print(\"Routes with united states as destination:\")\n",
        "us_routess = spark.sql(\"SELECT * FROM routes WHERE DEST_COUNTRY_NAME = 'United States'\")\n",
        "us_routess.show()"
      ],
      "metadata": {
        "colab": {
          "base_uri": "https://localhost:8080/"
        },
        "id": "FReBDc5Cl7hT",
        "outputId": "d0b4f729-9801-442a-bedf-cb5217c8409a"
      },
      "execution_count": 38,
      "outputs": [
        {
          "output_type": "stream",
          "name": "stdout",
          "text": [
            "Routes with united states as destination:\n",
            "+-----------------+--------------------+-----+\n",
            "|DEST_COUNTRY_NAME| ORIGIN_COUNTRY_NAME|count|\n",
            "+-----------------+--------------------+-----+\n",
            "|    United States|             Romania|    1|\n",
            "|    United States|             Ireland|  264|\n",
            "|    United States|               India|   69|\n",
            "|    United States|           Singapore|   25|\n",
            "|    United States|             Grenada|   54|\n",
            "|    United States|    Marshall Islands|   44|\n",
            "|    United States|        Sint Maarten|   53|\n",
            "|    United States|         Afghanistan|    2|\n",
            "|    United States|              Russia|  156|\n",
            "|    United States|Federated States ...|   48|\n",
            "|    United States|         Netherlands|  570|\n",
            "|    United States|             Senegal|   46|\n",
            "|    United States|              Angola|   18|\n",
            "|    United States|            Anguilla|   20|\n",
            "|    United States|             Ecuador|  345|\n",
            "|    United States|              Cyprus|    1|\n",
            "|    United States|Bosnia and Herzeg...|    1|\n",
            "|    United States|            Portugal|  104|\n",
            "|    United States|          Costa Rica|  501|\n",
            "|    United States|           Guatemala|  333|\n",
            "+-----------------+--------------------+-----+\n",
            "only showing top 20 rows\n",
            "\n"
          ]
        }
      ]
    },
    {
      "cell_type": "code",
      "source": [
        "from pyspark.sql.functions import avg\n",
        "avg_travelers =df.groupBy(\"ORIGIN_COUNTRY_NAME\",\"DEST_COUNTRY_NAME\").agg(avg(\"count\").alias(\"avg_travelers\"))\n",
        "avg_travelers.show()"
      ],
      "metadata": {
        "colab": {
          "base_uri": "https://localhost:8080/"
        },
        "id": "73nTvcQtQp-i",
        "outputId": "3d01dc78-459a-40b5-ca3a-b77017d39575"
      },
      "execution_count": 41,
      "outputs": [
        {
          "output_type": "stream",
          "name": "stdout",
          "text": [
            "+-------------------+--------------------+-------------+\n",
            "|ORIGIN_COUNTRY_NAME|   DEST_COUNTRY_NAME|avg_travelers|\n",
            "+-------------------+--------------------+-------------+\n",
            "|            Romania|       United States|          1.0|\n",
            "|            Ireland|       United States|        264.0|\n",
            "|              India|       United States|         69.0|\n",
            "|      United States|               Egypt|         24.0|\n",
            "|      United States|   Equatorial Guinea|          1.0|\n",
            "|          Singapore|       United States|         25.0|\n",
            "|            Grenada|       United States|         54.0|\n",
            "|      United States|          Costa Rica|        477.0|\n",
            "|      United States|             Senegal|         29.0|\n",
            "|   Marshall Islands|       United States|         44.0|\n",
            "|      United States|              Guyana|         17.0|\n",
            "|       Sint Maarten|       United States|         53.0|\n",
            "|      United States|               Malta|          1.0|\n",
            "|      United States|             Bolivia|         46.0|\n",
            "|      United States|            Anguilla|         21.0|\n",
            "|      United States|Turks and Caicos ...|        136.0|\n",
            "|        Afghanistan|       United States|          2.0|\n",
            "|      United States|Saint Vincent and...|          1.0|\n",
            "|      United States|               Italy|        390.0|\n",
            "|             Russia|       United States|        156.0|\n",
            "+-------------------+--------------------+-------------+\n",
            "only showing top 20 rows\n",
            "\n"
          ]
        }
      ]
    },
    {
      "cell_type": "markdown",
      "source": [
        "3. Find countries that appear as both origin and destination"
      ],
      "metadata": {
        "id": "PcwI6Ro3Tr2u"
      }
    },
    {
      "cell_type": "code",
      "source": [
        "origins=df.select(\"ORIGIN_COUNTRY_NAME\").distinct()\n",
        "destinations=df.select(\"DEST_COUNTRY_NAME\").distinct()\n",
        "common_countires = origins.join(destinations,origins[\"ORIGIN_COUNTRY_NAME\"] == destinations[\"DEST_COUNTRY_NAME\"],\"inner\").select(origins[\"ORIGIN_COUNTRY_NAME\"])\n",
        "common_countires.show()"
      ],
      "metadata": {
        "colab": {
          "base_uri": "https://localhost:8080/"
        },
        "id": "xlJMWWruQqMD",
        "outputId": "59691fac-7cad-4f48-fc8f-53a5bb7796cf"
      },
      "execution_count": 44,
      "outputs": [
        {
          "output_type": "stream",
          "name": "stdout",
          "text": [
            "+--------------------+\n",
            "| ORIGIN_COUNTRY_NAME|\n",
            "+--------------------+\n",
            "|            Anguilla|\n",
            "|             Senegal|\n",
            "|              Sweden|\n",
            "|              Guyana|\n",
            "|            Malaysia|\n",
            "|                Fiji|\n",
            "|             Germany|\n",
            "|Turks and Caicos ...|\n",
            "|              Taiwan|\n",
            "|            Slovakia|\n",
            "|             Ecuador|\n",
            "|               Qatar|\n",
            "|             Finland|\n",
            "|       United States|\n",
            "|               Malta|\n",
            "|              Kuwait|\n",
            "|    Marshall Islands|\n",
            "|          Martinique|\n",
            "|             Bolivia|\n",
            "|               Italy|\n",
            "+--------------------+\n",
            "only showing top 20 rows\n",
            "\n"
          ]
        }
      ]
    },
    {
      "cell_type": "code",
      "source": [
        "# Create a new column showing if the route has 'high traffic' (>500 travelers)\n",
        "\n",
        "df_with_traffic = df.withColumn(\"high_traffic\",when(df[\"count\"]>500,True).otherwise(False))\n",
        "df_with_traffic.show(30)"
      ],
      "metadata": {
        "colab": {
          "base_uri": "https://localhost:8080/"
        },
        "id": "TWaD9n10QqOL",
        "outputId": "178f9685-e051-4487-cf3c-073d09b80536"
      },
      "execution_count": 47,
      "outputs": [
        {
          "output_type": "stream",
          "name": "stdout",
          "text": [
            "+--------------------+--------------------+-----+------------+\n",
            "|   DEST_COUNTRY_NAME| ORIGIN_COUNTRY_NAME|count|high_traffic|\n",
            "+--------------------+--------------------+-----+------------+\n",
            "|       United States|             Romania|    1|       false|\n",
            "|       United States|             Ireland|  264|       false|\n",
            "|       United States|               India|   69|       false|\n",
            "|               Egypt|       United States|   24|       false|\n",
            "|   Equatorial Guinea|       United States|    1|       false|\n",
            "|       United States|           Singapore|   25|       false|\n",
            "|       United States|             Grenada|   54|       false|\n",
            "|          Costa Rica|       United States|  477|       false|\n",
            "|             Senegal|       United States|   29|       false|\n",
            "|       United States|    Marshall Islands|   44|       false|\n",
            "|              Guyana|       United States|   17|       false|\n",
            "|       United States|        Sint Maarten|   53|       false|\n",
            "|               Malta|       United States|    1|       false|\n",
            "|             Bolivia|       United States|   46|       false|\n",
            "|            Anguilla|       United States|   21|       false|\n",
            "|Turks and Caicos ...|       United States|  136|       false|\n",
            "|       United States|         Afghanistan|    2|       false|\n",
            "|Saint Vincent and...|       United States|    1|       false|\n",
            "|               Italy|       United States|  390|       false|\n",
            "|       United States|              Russia|  156|       false|\n",
            "|       United States|Federated States ...|   48|       false|\n",
            "|            Pakistan|       United States|    9|       false|\n",
            "|       United States|         Netherlands|  570|        true|\n",
            "|             Iceland|       United States|  118|       false|\n",
            "|    Marshall Islands|       United States|   77|       false|\n",
            "|          Luxembourg|       United States|   91|       false|\n",
            "|            Honduras|       United States|  391|       false|\n",
            "|         The Bahamas|       United States|  903|        true|\n",
            "|         El Salvador|       United States|  519|        true|\n",
            "|       United States|             Senegal|   46|       false|\n",
            "+--------------------+--------------------+-----+------------+\n",
            "only showing top 30 rows\n",
            "\n"
          ]
        }
      ]
    },
    {
      "cell_type": "code",
      "source": [
        "#find the route with exactly 264 travelers\n",
        "route_264 = df.filter(df[\"count\"] == 264)\n",
        "route_264.show()"
      ],
      "metadata": {
        "colab": {
          "base_uri": "https://localhost:8080/"
        },
        "id": "DKIlWGF2QqRx",
        "outputId": "e8f9acbd-f26a-45a8-cc4c-e75b76c0d66a"
      },
      "execution_count": 49,
      "outputs": [
        {
          "output_type": "stream",
          "name": "stdout",
          "text": [
            "+-----------------+-------------------+-----+\n",
            "|DEST_COUNTRY_NAME|ORIGIN_COUNTRY_NAME|count|\n",
            "+-----------------+-------------------+-----+\n",
            "|    United States|            Ireland|  264|\n",
            "+-----------------+-------------------+-----+\n",
            "\n"
          ]
        }
      ]
    },
    {
      "cell_type": "code",
      "source": [
        "print(\"Routes with high traffic column:\")\n",
        "df_with_traffic = spark.sql(\"\"\"\n",
        "SELECT *,CASE WHEN count > 500 THEN TRUE ELSE FALSE END AS high_traffic\n",
        "FROM routes\n",
        "\"\"\")\n",
        "df_with_traffic.show(30)"
      ],
      "metadata": {
        "colab": {
          "base_uri": "https://localhost:8080/"
        },
        "id": "PuPAapYZW7dC",
        "outputId": "c391660b-84d1-428e-e816-b46ac62190be"
      },
      "execution_count": 52,
      "outputs": [
        {
          "output_type": "stream",
          "name": "stdout",
          "text": [
            "Routes with high traffic column:\n",
            "+--------------------+--------------------+-----+------------+\n",
            "|   DEST_COUNTRY_NAME| ORIGIN_COUNTRY_NAME|count|high_traffic|\n",
            "+--------------------+--------------------+-----+------------+\n",
            "|       United States|             Romania|    1|       false|\n",
            "|       United States|             Ireland|  264|       false|\n",
            "|       United States|               India|   69|       false|\n",
            "|               Egypt|       United States|   24|       false|\n",
            "|   Equatorial Guinea|       United States|    1|       false|\n",
            "|       United States|           Singapore|   25|       false|\n",
            "|       United States|             Grenada|   54|       false|\n",
            "|          Costa Rica|       United States|  477|       false|\n",
            "|             Senegal|       United States|   29|       false|\n",
            "|       United States|    Marshall Islands|   44|       false|\n",
            "|              Guyana|       United States|   17|       false|\n",
            "|       United States|        Sint Maarten|   53|       false|\n",
            "|               Malta|       United States|    1|       false|\n",
            "|             Bolivia|       United States|   46|       false|\n",
            "|            Anguilla|       United States|   21|       false|\n",
            "|Turks and Caicos ...|       United States|  136|       false|\n",
            "|       United States|         Afghanistan|    2|       false|\n",
            "|Saint Vincent and...|       United States|    1|       false|\n",
            "|               Italy|       United States|  390|       false|\n",
            "|       United States|              Russia|  156|       false|\n",
            "|       United States|Federated States ...|   48|       false|\n",
            "|            Pakistan|       United States|    9|       false|\n",
            "|       United States|         Netherlands|  570|        true|\n",
            "|             Iceland|       United States|  118|       false|\n",
            "|    Marshall Islands|       United States|   77|       false|\n",
            "|          Luxembourg|       United States|   91|       false|\n",
            "|            Honduras|       United States|  391|       false|\n",
            "|         The Bahamas|       United States|  903|        true|\n",
            "|         El Salvador|       United States|  519|        true|\n",
            "|       United States|             Senegal|   46|       false|\n",
            "+--------------------+--------------------+-----+------------+\n",
            "only showing top 30 rows\n",
            "\n"
          ]
        }
      ]
    }
  ]
}